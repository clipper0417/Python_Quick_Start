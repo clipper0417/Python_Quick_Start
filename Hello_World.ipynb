{
 "metadata": {
  "name": "",
  "signature": "sha256:c5b2158819df83f60ec7f6d512be99322b50cda1f3999bd5822583931640f5ec"
 },
 "nbformat": 3,
 "nbformat_minor": 0,
 "worksheets": [
  {
   "cells": [
    {
     "cell_type": "code",
     "collapsed": false,
     "input": [
      "print(\"Hello, World!\")"
     ],
     "language": "python",
     "metadata": {},
     "outputs": [
      {
       "output_type": "stream",
       "stream": "stdout",
       "text": [
        "Hello, World!\n"
       ]
      }
     ],
     "prompt_number": 1
    },
    {
     "cell_type": "code",
     "collapsed": false,
     "input": [],
     "language": "python",
     "metadata": {},
     "outputs": [],
     "prompt_number": 1
    },
    {
     "cell_type": "code",
     "collapsed": false,
     "input": [
      "print(\"Jack and Jill went up a hill\")\n",
      "print(\"to fetch a pail of water;\")\n",
      "print(\"Jack fell down, and broke his crown,\")\n",
      "print(\"and Jill came tumbling after.\")"
     ],
     "language": "python",
     "metadata": {},
     "outputs": [
      {
       "output_type": "stream",
       "stream": "stdout",
       "text": [
        "Jack and Jill went up a hill\n",
        "to fetch a pail of water;\n",
        "Jack fell down, and broke his crown,\n",
        "and Jill came tumbling after.\n"
       ]
      }
     ],
     "prompt_number": 2
    },
    {
     "cell_type": "code",
     "collapsed": false,
     "input": [],
     "language": "python",
     "metadata": {},
     "outputs": [],
     "prompt_number": 2
    },
    {
     "cell_type": "markdown",
     "metadata": {},
     "source": [
      "Expressions"
     ]
    },
    {
     "cell_type": "code",
     "collapsed": false,
     "input": [
      "print(\"2 + 2 is\", 2 + 2)\n",
      "print(\"3 * 4 is\", 3 * 4)\n",
      "print(\"100 - 1 is\", 100 - 1)\n",
      "print(\"(33 + 2) / 5 + 11.5 is\", (33 + 2) / 5 + 11.5)"
     ],
     "language": "python",
     "metadata": {},
     "outputs": [
      {
       "output_type": "stream",
       "stream": "stdout",
       "text": [
        "('2 + 2 is', 4)\n",
        "('3 * 4 is', 12)\n",
        "('100 - 1 is', 99)\n",
        "('(33 + 2) / 5 + 11.5 is', 18.5)\n"
       ]
      }
     ],
     "prompt_number": 3
    },
    {
     "cell_type": "code",
     "collapsed": false,
     "input": [],
     "language": "python",
     "metadata": {},
     "outputs": [],
     "prompt_number": 3
    },
    {
     "cell_type": "markdown",
     "metadata": {},
     "source": [
      "School.py"
     ]
    },
    {
     "cell_type": "code",
     "collapsed": false,
     "input": [
      "# This is not quite true outside of USA\n",
      "# and is based on my dim memories of my younger years\n",
      "print(\"Firstish Grade\")\n",
      "print(\"1 + 1 =\", 1 + 1)\n",
      "print(\"2 + 4 =\", 2 + 4)\n",
      "print(\"5 - 2 =\", 5 - 2)\n",
      "print()\n",
      "print(\"Thirdish Grade\")\n",
      "print(\"243 - 23 =\", 243 - 23)\n",
      "print(\"12 * 4 =\", 12 * 4)\n",
      "print(\"12 / 3 =\", 12 / 3)\n",
      "print(\"13 / 3 =\", 13 // 3, \"R\", 13 % 3)\n",
      "print()\n",
      "print(\"Junior High\")\n",
      "print(\"123.56 - 62.12 =\", 123.56 - 62.12)\n",
      "print(\"(4 + 3) * 2 =\", (4 + 3) * 2)\n",
      "print(\"4 + 3 * 2 =\", 4 + 3 * 2)\n",
      "print(\"3 ** 2 =\", 3 ** 2)# This is not quite true outside of USA\n",
      "# and is based on my dim memories of my younger years\n",
      "print(\"Firstish Grade\")\n",
      "print(\"1 + 1 =\", 1 + 1)\n",
      "print(\"2 + 4 =\", 2 + 4)\n",
      "print(\"5 - 2 =\", 5 - 2)\n",
      "print()\n",
      "print(\"Thirdish Grade\")\n",
      "print(\"243 - 23 =\", 243 - 23)\n",
      "print(\"12 * 4 =\", 12 * 4)\n",
      "print(\"12 / 3 =\", 12 / 3)\n",
      "print(\"13 / 3 =\", 13 // 3, \"R\", 13 % 3)\n",
      "print()\n",
      "print(\"Junior High\")\n",
      "print(\"123.56 - 62.12 =\", 123.56 - 62.12)\n",
      "print(\"(4 + 3) * 2 =\", (4 + 3) * 2)\n",
      "print(\"4 + 3 * 2 =\", 4 + 3 * 2)\n",
      "print(\"3 ** 2 =\", 3 ** 2)"
     ],
     "language": "python",
     "metadata": {},
     "outputs": [
      {
       "output_type": "stream",
       "stream": "stdout",
       "text": [
        "Firstish Grade\n",
        "('1 + 1 =', 2)\n",
        "('2 + 4 =', 6)\n",
        "('5 - 2 =', 3)\n",
        "()\n",
        "Thirdish Grade\n",
        "('243 - 23 =', 220)\n",
        "('12 * 4 =', 48)\n",
        "('12 / 3 =', 4)\n",
        "('13 / 3 =', 4, 'R', 1)\n",
        "()\n",
        "Junior High\n",
        "('123.56 - 62.12 =', 61.440000000000005)\n",
        "('(4 + 3) * 2 =', 14)\n",
        "('4 + 3 * 2 =', 10)\n",
        "('3 ** 2 =', 9)\n",
        "Firstish Grade\n",
        "('1 + 1 =', 2)\n",
        "('2 + 4 =', 6)\n",
        "('5 - 2 =', 3)\n",
        "()\n",
        "Thirdish Grade\n",
        "('243 - 23 =', 220)\n",
        "('12 * 4 =', 48)\n",
        "('12 / 3 =', 4)\n",
        "('13 / 3 =', 4, 'R', 1)\n",
        "()\n",
        "Junior High\n",
        "('123.56 - 62.12 =', 61.440000000000005)\n",
        "('(4 + 3) * 2 =', 14)\n",
        "('4 + 3 * 2 =', 10)\n",
        "('3 ** 2 =', 9)\n"
       ]
      }
     ],
     "prompt_number": 4
    },
    {
     "cell_type": "code",
     "collapsed": false,
     "input": [],
     "language": "python",
     "metadata": {},
     "outputs": [],
     "prompt_number": 4
    },
    {
     "cell_type": "code",
     "collapsed": false,
     "input": [],
     "language": "python",
     "metadata": {},
     "outputs": [],
     "prompt_number": 4
    },
    {
     "cell_type": "code",
     "collapsed": false,
     "input": [],
     "language": "python",
     "metadata": {},
     "outputs": [],
     "prompt_number": 4
    },
    {
     "cell_type": "code",
     "collapsed": false,
     "input": [],
     "language": "python",
     "metadata": {},
     "outputs": [],
     "prompt_number": 4
    }
   ],
   "metadata": {}
  }
 ]
}