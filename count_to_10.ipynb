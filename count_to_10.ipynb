{
 "metadata": {
  "name": "",
  "signature": "sha256:bd5293247b092b90cce4f8b4177c9d897da64bfca274369e1f45279af41feac6"
 },
 "nbformat": 3,
 "nbformat_minor": 0,
 "worksheets": [
  {
   "cells": [
    {
     "cell_type": "heading",
     "level": 3,
     "metadata": {},
     "source": [
      "While loops"
     ]
    },
    {
     "cell_type": "code",
     "collapsed": false,
     "input": [
      "a = 0            # FIRST, set the initial value of the variable a to 0(zero).\n",
      "while a < 10:    # While the value of the variable a is less than 10 do the following:\n",
      "    a = a + 1    # Increase the value of the variable a by 1, as in: a = a + 1! \n",
      "    print(a)     # Print to screen what the present value of the variable a is.\n",
      "                 # REPEAT! until the value of the variable a is equal to 9!? See note. \n",
      " \n",
      "                 # NOTE:\n",
      "                 # The value of the variable a will increase by 1\n",
      "                 # with each repeat, or loop of the 'while statement BLOCK'.\n",
      "                 # e.g. a = 1 then a = 2 then a = 3 etc. until a = 9 then...\n",
      "                 # the code will finish adding 1 to a (now a = 10), printing the \n",
      "                 # result, and then exiting the 'while statement BLOCK'. \n",
      "                 #              --\n",
      "                 # While a < 10: |\n",
      "                 #     a = a + 1 |<--[ The while statement BLOCK ]\n",
      "                 #     print (a) |\n",
      "                 #     "
     ],
     "language": "python",
     "metadata": {},
     "outputs": [
      {
       "output_type": "stream",
       "stream": "stdout",
       "text": [
        "1\n",
        "2\n",
        "3\n",
        "4\n",
        "5\n",
        "6\n",
        "7\n",
        "8\n",
        "9\n",
        "10\n"
       ]
      }
     ],
     "prompt_number": 1
    },
    {
     "cell_type": "code",
     "collapsed": false,
     "input": [
      "%%html\n",
      "<iframe width=\"800\" height=\"500\" frameborder=\"0\" src=\"http://pythontutor.com/iframe-embed.html#code=a+%3D+0++++++++++++%0D%0Awhile+a+%3C+10%3A++++%0D%0A++++a+%3D+a+%2B+1+++++%0D%0A++++print(a)+&origin=opt-frontend.js&cumulative=false&heapPrimitives=false&drawParentPointers=false&textReferences=false&showOnlyOutputs=false&py=3&rawInputLstJSON=%5B%5D&curInstr=1&codeDivWidth=350&codeDivHeight=400\"> </iframe>"
     ],
     "language": "python",
     "metadata": {},
     "outputs": [
      {
       "html": [
        "<iframe width=\"800\" height=\"500\" frameborder=\"0\" src=\"http://pythontutor.com/iframe-embed.html#code=a+%3D+0++++++++++++%0D%0Awhile+a+%3C+10%3A++++%0D%0A++++a+%3D+a+%2B+1+++++%0D%0A++++print(a)+&origin=opt-frontend.js&cumulative=false&heapPrimitives=false&drawParentPointers=false&textReferences=false&showOnlyOutputs=false&py=3&rawInputLstJSON=%5B%5D&curInstr=1&codeDivWidth=350&codeDivHeight=400\"> </iframe>"
       ],
       "metadata": {},
       "output_type": "display_data",
       "text": [
        "<IPython.core.display.HTML at 0x2bd3ad0>"
       ]
      }
     ],
     "prompt_number": 5
    },
    {
     "cell_type": "code",
     "collapsed": false,
     "input": [],
     "language": "python",
     "metadata": {},
     "outputs": []
    },
    {
     "cell_type": "code",
     "collapsed": false,
     "input": [
      "a = 1\n",
      "s = 0\n",
      "print('Enter Numbers to add to the sum.')\n",
      "print('Enter 0 to quit.')\n",
      "while a != 0:                           \n",
      "    print('Current Sum:', s)            \n",
      "    a = float(input('Number? '))        \n",
      "    s = s + a                            \n",
      "print('Total Sum =', s)"
     ],
     "language": "python",
     "metadata": {},
     "outputs": [
      {
       "output_type": "stream",
       "stream": "stdout",
       "text": [
        "Enter Numbers to add to the sum.\n",
        "Enter 0 to quit.\n",
        "Current Sum: 0\n"
       ]
      },
      {
       "name": "stdout",
       "output_type": "stream",
       "stream": "stdout",
       "text": [
        "Number? 12\n"
       ]
      },
      {
       "output_type": "stream",
       "stream": "stdout",
       "text": [
        "Current Sum: 12.0\n"
       ]
      },
      {
       "name": "stdout",
       "output_type": "stream",
       "stream": "stdout",
       "text": [
        "Number? 24\n"
       ]
      },
      {
       "output_type": "stream",
       "stream": "stdout",
       "text": [
        "Current Sum: 36.0\n"
       ]
      },
      {
       "name": "stdout",
       "output_type": "stream",
       "stream": "stdout",
       "text": [
        "Number? 12\n"
       ]
      },
      {
       "output_type": "stream",
       "stream": "stdout",
       "text": [
        "Current Sum: 48.0\n"
       ]
      },
      {
       "name": "stdout",
       "output_type": "stream",
       "stream": "stdout",
       "text": [
        "Number? 12\n"
       ]
      },
      {
       "output_type": "stream",
       "stream": "stdout",
       "text": [
        "Current Sum: 60.0\n"
       ]
      },
      {
       "name": "stdout",
       "output_type": "stream",
       "stream": "stdout",
       "text": [
        "Number? 0\n"
       ]
      },
      {
       "output_type": "stream",
       "stream": "stdout",
       "text": [
        "Total Sum = 60.0\n"
       ]
      }
     ],
     "prompt_number": 6
    },
    {
     "cell_type": "code",
     "collapsed": false,
     "input": [
      "%%html\n",
      "<iframe width=\"800\" height=\"500\" frameborder=\"0\" src=\"http://pythontutor.com/iframe-embed.html#code=a+%3D+1%0D%0As+%3D+0%0D%0Aprint('Enter+Numbers+to+add+to+the+sum.')%0D%0Aprint('Enter+0+to+quit.')%0D%0Awhile+a+!%3D+0%3A+++++++++++++++++++++++++++%0D%0A++++print('Current+Sum%3A',+s)++++++++++++%0D%0A++++a+%3D+float(input('Number%3F+'))++++++++%0D%0A++++s+%3D+s+%2B+a++++++++++++++++++++++++++++%0D%0Aprint('Total+Sum+%3D',+s)&origin=opt-frontend.js&cumulative=false&heapPrimitives=false&drawParentPointers=false&textReferences=false&showOnlyOutputs=false&py=3&rawInputLstJSON=%5B%2212%22%5D&curInstr=7&codeDivWidth=350&codeDivHeight=400\"> </iframe>"
     ],
     "language": "python",
     "metadata": {},
     "outputs": [
      {
       "html": [
        "<iframe width=\"800\" height=\"500\" frameborder=\"0\" src=\"http://pythontutor.com/iframe-embed.html#code=a+%3D+1%0D%0As+%3D+0%0D%0Aprint('Enter+Numbers+to+add+to+the+sum.')%0D%0Aprint('Enter+0+to+quit.')%0D%0Awhile+a+!%3D+0%3A+++++++++++++++++++++++++++%0D%0A++++print('Current+Sum%3A',+s)++++++++++++%0D%0A++++a+%3D+float(input('Number%3F+'))++++++++%0D%0A++++s+%3D+s+%2B+a++++++++++++++++++++++++++++%0D%0Aprint('Total+Sum+%3D',+s)&origin=opt-frontend.js&cumulative=false&heapPrimitives=false&drawParentPointers=false&textReferences=false&showOnlyOutputs=false&py=3&rawInputLstJSON=%5B%2212%22%5D&curInstr=7&codeDivWidth=350&codeDivHeight=400\"> </iframe>"
       ],
       "metadata": {},
       "output_type": "display_data",
       "text": [
        "<IPython.core.display.HTML at 0x2bf2070>"
       ]
      }
     ],
     "prompt_number": 7
    },
    {
     "cell_type": "markdown",
     "metadata": {},
     "source": []
    },
    {
     "cell_type": "heading",
     "level": 3,
     "metadata": {},
     "source": [
      "Fibonacci-method1"
     ]
    },
    {
     "cell_type": "code",
     "collapsed": false,
     "input": [
      "# This program calculates the Fibonacci sequence\n",
      "a = 0\n",
      "b = 1\n",
      "count = 0\n",
      "max_count = 20\n",
      " \n",
      "while count < max_count:\n",
      "    count = count + 1\n",
      "    print(a, end=\" \")  # Notice the magic end=\" \" in the print function arguments  \n",
      "                       # that keeps it from creating a new line.\n",
      "    old_a = a    # we need to keep track of a since we change it.\n",
      "    a = b\n",
      "    b = old_a + b\n",
      "print()  # gets a new (empty) line."
     ],
     "language": "python",
     "metadata": {},
     "outputs": [
      {
       "output_type": "stream",
       "stream": "stdout",
       "text": [
        "0 1 1 2 3 5 8 13 21 34 55 89 144 233 377 610 987 1597 2584 4181 \n"
       ]
      }
     ],
     "prompt_number": 8
    },
    {
     "cell_type": "code",
     "collapsed": false,
     "input": [],
     "language": "python",
     "metadata": {},
     "outputs": [],
     "prompt_number": 7
    },
    {
     "cell_type": "code",
     "collapsed": false,
     "input": [
      "%%html\n",
      "<iframe width=\"800\" height=\"500\" frameborder=\"0\" src=\"http://pythontutor.com/iframe-embed.html#code=%23+This+program+calculates+the+Fibonacci+sequence%0D%0Aa+%3D+0%0D%0Ab+%3D+1%0D%0Acount+%3D+0%0D%0Amax_count+%3D+20%0D%0A+%0D%0Awhile+count+%3C+max_count%3A%0D%0A++++count+%3D+count+%2B+1%0D%0A++++print(a,+end%3D%22+%22)++%23+Notice+the+magic+end%3D%22+%22+in+the+print+function+arguments++%0D%0A+++++++++++++++++++++++%23+that+keeps+it+from+creating+a+new+line.%0D%0A++++old_a+%3D+a++++%23+we+need+to+keep+track+of+a+since+we+change+it.%0D%0A++++a+%3D+b%0D%0A++++b+%3D+old_a+%2B+b%0D%0Aprint()++%23+gets+a+new+(empty)+line.&origin=opt-frontend.js&cumulative=false&heapPrimitives=false&drawParentPointers=false&textReferences=false&showOnlyOutputs=false&py=3&rawInputLstJSON=%5B%5D&curInstr=2&codeDivWidth=350&codeDivHeight=400\"> </iframe>"
     ],
     "language": "python",
     "metadata": {},
     "outputs": [
      {
       "html": [
        "<iframe width=\"800\" height=\"500\" frameborder=\"0\" src=\"http://pythontutor.com/iframe-embed.html#code=%23+This+program+calculates+the+Fibonacci+sequence%0D%0Aa+%3D+0%0D%0Ab+%3D+1%0D%0Acount+%3D+0%0D%0Amax_count+%3D+20%0D%0A+%0D%0Awhile+count+%3C+max_count%3A%0D%0A++++count+%3D+count+%2B+1%0D%0A++++print(a,+end%3D%22+%22)++%23+Notice+the+magic+end%3D%22+%22+in+the+print+function+arguments++%0D%0A+++++++++++++++++++++++%23+that+keeps+it+from+creating+a+new+line.%0D%0A++++old_a+%3D+a++++%23+we+need+to+keep+track+of+a+since+we+change+it.%0D%0A++++a+%3D+b%0D%0A++++b+%3D+old_a+%2B+b%0D%0Aprint()++%23+gets+a+new+(empty)+line.&origin=opt-frontend.js&cumulative=false&heapPrimitives=false&drawParentPointers=false&textReferences=false&showOnlyOutputs=false&py=3&rawInputLstJSON=%5B%5D&curInstr=2&codeDivWidth=350&codeDivHeight=400\"> </iframe>"
       ],
       "metadata": {},
       "output_type": "display_data",
       "text": [
        "<IPython.core.display.HTML at 0x3138310>"
       ]
      }
     ],
     "prompt_number": 9
    },
    {
     "cell_type": "markdown",
     "metadata": {},
     "source": []
    },
    {
     "cell_type": "heading",
     "level": 3,
     "metadata": {},
     "source": [
      "Fibonacci-method2"
     ]
    },
    {
     "cell_type": "code",
     "collapsed": false,
     "input": [
      "# Simplified and faster method to calculate the Fibonacci sequence\n",
      "a = 0\n",
      "b = 1\n",
      "count = 0\n",
      "max_count = 10\n",
      " \n",
      "while count < max_count:\n",
      "    count = count + 1\n",
      "    print(a, b, end=\" \")  # Notice the magic end=\" \"\n",
      "    a = a + b    \n",
      "    b = a + b\n",
      "print()  # gets a new (empty) line."
     ],
     "language": "python",
     "metadata": {},
     "outputs": [
      {
       "output_type": "stream",
       "stream": "stdout",
       "text": [
        "0 1 1 2 3 5 8 13 21 34 55 89 144 233 377 610 987 1597 2584 4181 \n"
       ]
      }
     ],
     "prompt_number": 10
    },
    {
     "cell_type": "code",
     "collapsed": false,
     "input": [],
     "language": "python",
     "metadata": {},
     "outputs": []
    },
    {
     "cell_type": "code",
     "collapsed": false,
     "input": [
      "%%html\n",
      "<iframe width=\"800\" height=\"500\" frameborder=\"0\" src=\"http://pythontutor.com/iframe-embed.html#code=%23+Simplified+and+faster+method+to+calculate+the+Fibonacci+sequence%0D%0Aa+%3D+0%0D%0Ab+%3D+1%0D%0Acount+%3D+0%0D%0Amax_count+%3D+10%0D%0A+%0D%0Awhile+count+%3C+max_count%3A%0D%0A++++count+%3D+count+%2B+1%0D%0A++++print(a,+b,+end%3D%22+%22)++%23+Notice+the+magic+end%3D%22+%22%0D%0A++++a+%3D+a+%2B+b++++%0D%0A++++b+%3D+a+%2B+b%0D%0Aprint()++%23+gets+a+new+(empty)+line.&origin=opt-frontend.js&cumulative=false&heapPrimitives=false&drawParentPointers=false&textReferences=false&showOnlyOutputs=false&py=3&rawInputLstJSON=%5B%5D&curInstr=0&codeDivWidth=350&codeDivHeight=400\"> </iframe>"
     ],
     "language": "python",
     "metadata": {},
     "outputs": [
      {
       "html": [
        "<iframe width=\"800\" height=\"500\" frameborder=\"0\" src=\"http://pythontutor.com/iframe-embed.html#code=%23+Simplified+and+faster+method+to+calculate+the+Fibonacci+sequence%0D%0Aa+%3D+0%0D%0Ab+%3D+1%0D%0Acount+%3D+0%0D%0Amax_count+%3D+10%0D%0A+%0D%0Awhile+count+%3C+max_count%3A%0D%0A++++count+%3D+count+%2B+1%0D%0A++++print(a,+b,+end%3D%22+%22)++%23+Notice+the+magic+end%3D%22+%22%0D%0A++++a+%3D+a+%2B+b++++%0D%0A++++b+%3D+a+%2B+b%0D%0Aprint()++%23+gets+a+new+(empty)+line.&origin=opt-frontend.js&cumulative=false&heapPrimitives=false&drawParentPointers=false&textReferences=false&showOnlyOutputs=false&py=3&rawInputLstJSON=%5B%5D&curInstr=0&codeDivWidth=350&codeDivHeight=400\"> </iframe>"
       ],
       "metadata": {},
       "output_type": "display_data",
       "text": [
        "<IPython.core.display.HTML at 0x2bf2ed0>"
       ]
      }
     ],
     "prompt_number": 11
    },
    {
     "cell_type": "markdown",
     "metadata": {},
     "source": []
    },
    {
     "cell_type": "markdown",
     "metadata": {},
     "source": [
      "Enter Password"
     ]
    },
    {
     "cell_type": "code",
     "collapsed": false,
     "input": [
      "# Waits until a password has been entered.  Use Control-C to break out without\n",
      "# the password\n",
      " \n",
      "#Note that this must not be the password so that the \n",
      "# while loop runs at least once.\n",
      "password = str()\n",
      " \n",
      "# note that != means not equal\n",
      "while password != \"unicorn\":\n",
      "    password = input(\"Password: \")\n",
      "print(\"Welcome in\")"
     ],
     "language": "python",
     "metadata": {},
     "outputs": [
      {
       "name": "stdout",
       "output_type": "stream",
       "stream": "stdout",
       "text": [
        "Password: dfdfs\n"
       ]
      },
      {
       "name": "stdout",
       "output_type": "stream",
       "stream": "stdout",
       "text": [
        "Password: unicorn\n"
       ]
      },
      {
       "output_type": "stream",
       "stream": "stdout",
       "text": [
        "Welcome in\n"
       ]
      }
     ],
     "prompt_number": 12
    },
    {
     "cell_type": "markdown",
     "metadata": {},
     "source": []
    },
    {
     "cell_type": "code",
     "collapsed": false,
     "input": [
      "%%html\n",
      "<iframe width=\"800\" height=\"500\" frameborder=\"0\" src=\"http://pythontutor.com/iframe-embed.html#code=%23+Waits+until+a+password+has+been+entered.++Use+Control-C+to+break+out+without%0D%0A%23+the+password%0D%0A+%0D%0A%23Note+that+this+must+not+be+the+password+so+that+the+%0D%0A%23+while+loop+runs+at+least+once.%0D%0Apassword+%3D+str()%0D%0A+%0D%0A%23+note+that+!%3D+means+not+equal%0D%0Awhile+password+!%3D+%22unicorn%22%3A%0D%0A++++password+%3D+input(%22Password%3A+%22)%0D%0Aprint(%22Welcome+in%22)&origin=opt-frontend.js&cumulative=false&heapPrimitives=false&drawParentPointers=false&textReferences=false&showOnlyOutputs=false&py=3&rawInputLstJSON=%5B%5D&curInstr=0&codeDivWidth=350&codeDivHeight=400\"> </iframe>"
     ],
     "language": "python",
     "metadata": {},
     "outputs": [
      {
       "html": [
        "<iframe width=\"800\" height=\"500\" frameborder=\"0\" src=\"http://pythontutor.com/iframe-embed.html#code=%23+Waits+until+a+password+has+been+entered.++Use+Control-C+to+break+out+without%0D%0A%23+the+password%0D%0A+%0D%0A%23Note+that+this+must+not+be+the+password+so+that+the+%0D%0A%23+while+loop+runs+at+least+once.%0D%0Apassword+%3D+str()%0D%0A+%0D%0A%23+note+that+!%3D+means+not+equal%0D%0Awhile+password+!%3D+%22unicorn%22%3A%0D%0A++++password+%3D+input(%22Password%3A+%22)%0D%0Aprint(%22Welcome+in%22)&origin=opt-frontend.js&cumulative=false&heapPrimitives=false&drawParentPointers=false&textReferences=false&showOnlyOutputs=false&py=3&rawInputLstJSON=%5B%5D&curInstr=0&codeDivWidth=350&codeDivHeight=400\"> </iframe>"
       ],
       "metadata": {},
       "output_type": "display_data",
       "text": [
        "<IPython.core.display.HTML at 0x2bf2130>"
       ]
      }
     ],
     "prompt_number": 13
    },
    {
     "cell_type": "markdown",
     "metadata": {},
     "source": []
    }
   ],
   "metadata": {}
  }
 ]
}